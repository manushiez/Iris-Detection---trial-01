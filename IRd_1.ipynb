{
  "nbformat": 4,
  "nbformat_minor": 0,
  "metadata": {
    "colab": {
      "provenance": [],
      "authorship_tag": "ABX9TyO8pG7LfGT4JFf/SrlBigGH",
      "include_colab_link": true
    },
    "kernelspec": {
      "name": "python3",
      "display_name": "Python 3"
    },
    "language_info": {
      "name": "python"
    }
  },
  "cells": [
    {
      "cell_type": "markdown",
      "metadata": {
        "id": "view-in-github",
        "colab_type": "text"
      },
      "source": [
        "<a href=\"https://colab.research.google.com/github/manushiez/Iris-Detection---trial-01/blob/main/IRd_1.ipynb\" target=\"_parent\"><img src=\"https://colab.research.google.com/assets/colab-badge.svg\" alt=\"Open In Colab\"/></a>"
      ]
    },
    {
      "cell_type": "code",
      "execution_count": null,
      "metadata": {
        "colab": {
          "base_uri": "https://localhost:8080/"
        },
        "id": "x5wpj4RVF4uP",
        "outputId": "595dd371-32f9-484b-a63f-719cae5e6122"
      },
      "outputs": [
        {
          "output_type": "stream",
          "name": "stdout",
          "text": [
            "ERROR: Pupil circle not found!\n",
            "ERROR: Pupil circle not found!\n",
            "Cannot compare iris regions. Pupil circle not found in one or both images.\n"
          ]
        }
      ],
      "source": [
        "import cv2\n",
        "import numpy as np\n",
        "from google.colab.patches import cv2_imshow\n",
        "\n",
        "def get_iris_boundaries(img):\n",
        "    gray = cv2.cvtColor(img, cv2.COLOR_BGR2GRAY)\n",
        "    blurred = cv2.GaussianBlur(gray, (5, 5), 0)\n",
        "    _, thresholded = cv2.threshold(blurred, 50, 255, cv2.THRESH_BINARY_INV)\n",
        "\n",
        "\n",
        "    circles = cv2.HoughCircles(thresholded, cv2.HOUGH_GRADIENT, dp=1, minDist=20, param1=50, param2=30, minRadius=10, maxRadius=200)\n",
        "\n",
        "    if circles is not None:\n",
        "        circles = np.uint16(np.around(circles))\n",
        "        for circle in circles[0, :]:\n",
        "            center = (circle[0], circle[1])\n",
        "            radius = circle[2]\n",
        "\n",
        "            cv2.circle(img, center, radius, (0, 255, 0), 2)\n",
        "\n",
        "\n",
        "            iris_region = img[center[1]-radius:center[1]+radius, center[0]-radius:center[0]+radius]\n",
        "\n",
        "            return iris_region, center, radius\n",
        "    else:\n",
        "        print('ERROR: Pupil circle not found!')\n",
        "        return None, None, None\n",
        "\n",
        "def compare_iris(img1, img2):\n",
        "    iris_region1, center1, radius1 = get_iris_boundaries(img1)\n",
        "    iris_region2, center2, radius2 = get_iris_boundaries(img2)\n",
        "\n",
        "    if iris_region1 is None or iris_region2 is None:\n",
        "        print(\"Cannot compare iris regions. Pupil circle not found in one or both images.\")\n",
        "        return\n",
        "\n",
        "    if abs(radius1 - radius2) <= 5:\n",
        "        print(\"Iris regions are similar.\")\n",
        "    else:\n",
        "        print(\"Iris regions are different.\")\n",
        "\n",
        "    cv2_imshow(iris_region1)\n",
        "    cv2_imshow(iris_region2)\n",
        "\n",
        "img1 = cv2.imread('/content/S2005R07.jpg')\n",
        "img2 = cv2.imread('/content/S2002R01.jpg')\n",
        "\n",
        "compare_iris(img1, img2)\n"
      ]
    }
  ]
}